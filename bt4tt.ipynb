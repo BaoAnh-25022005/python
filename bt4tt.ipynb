{
 "cells": [
  {
   "cell_type": "code",
   "execution_count": 3,
   "id": "351ee08b-7a62-49d2-8e86-69c7f782c90c",
   "metadata": {},
   "outputs": [
    {
     "name": "stdout",
     "output_type": "stream",
     "text": [
      "rsecwyadrkd\n",
      "reward\n",
      "drawer\n",
      "cườivui\n",
      ":):):):):)\n",
      "I like cooking, my family, and my friends\n"
     ]
    }
   ],
   "source": [
    "#1.Cắt chuỗi\n",
    "two_ways = \"rsecwyadrkd\"\n",
    "print(two_ways)\n",
    "#vd2:\n",
    "# từ đầu đến cuối và bước nhảy là 2\n",
    "print(two_ways[::2])\n",
    "#vd3:\n",
    "# từ cuối lên đầu, theo chiều âm và bước nhảy là 2\n",
    "print(two_ways[::-2])"
   ]
  },
  {
   "cell_type": "code",
   "execution_count": 4,
   "id": "af5563b2-51dc-4809-ae72-d2387eb3f1ed",
   "metadata": {},
   "outputs": [
    {
     "name": "stdout",
     "output_type": "stream",
     "text": [
      "cườivui\n",
      ":):):):):)\n"
     ]
    }
   ],
   "source": [
    "#2.Các phép toán \" số học\" trên chuỗi\n",
    "#vd1:\n",
    "daya=\"cười\"\n",
    "dayb=\"vui\"\n",
    "combo= daya + dayb\n",
    "print(combo)\n",
    "#vd2:\n",
    "motcuoi=\":)\"\n",
    "namcuoi=motcuoi*5\n",
    "print(namcuoi)"
   ]
  },
  {
   "cell_type": "code",
   "execution_count": 16,
   "id": "9dcbe35e-3423-4844-9e12-57de5811709a",
   "metadata": {},
   "outputs": [
    {
     "name": "stdout",
     "output_type": "stream",
     "text": [
      "I like cooking, my family, and my friends\n",
      "['', ' like cooking, my family, and my friends']\n",
      "U like cooking, my family, and my friends\n",
      "U like cooking, my family, and my friends\n",
      "I like cooking; my family; and my friends\n",
      "I like cooking my family and my friends\n"
     ]
    }
   ],
   "source": [
    "#3.Thay thế hoặc xóa chuỗi con\n",
    "#vd1: Cho chuỗi sau:\n",
    "favorites = \"I like cooking, my family, and my friends\"\n",
    "\n",
    "print(favorites)\n",
    "#vd3: Thay thế ký tự ở vị trí 0 bằng U bằng cách sử dụng cắt và gán. Điều gì xảy ra?\n",
    "parts = favorites.split(\"I\") # cắt bỏ chữ I\n",
    "print(parts)\n",
    "favorites= \"U\" + parts[1]# nối với thành phần part[1]\n",
    "print(favorites)\n",
    "#vd2:Làm lại nhiệm vụ tương tự bằng cách sử dụng cắt và nối:\n",
    "from_position_one=favorites [1:] # xóa phần tử đầu tiên\n",
    "\n",
    "favorites= \"U\" + from_position_one # nối U với dãy đã xóa\n",
    "\n",
    "print(favorites)\n",
    "#vd4: \n",
    "favorites = \"I like cooking, my family, and my friends\"\n",
    "favorites=favorites.replace(\",\", \";\")\n",
    "print(favorites)\n",
    "#vd5:\n",
    "favorites = \"I like cooking, my family, and my friends\"\n",
    "favorites=favorites.replace(\",\", \"\")\n",
    "print(favorites)\n"
   ]
  },
  {
   "cell_type": "code",
   "execution_count": 18,
   "id": "fa80c5c3-9da7-406f-a19f-90c00385d415",
   "metadata": {},
   "outputs": [
    {
     "name": "stdout",
     "output_type": "stream",
     "text": [
      "we are\n",
      "1\n",
      "[1, 5]\n"
     ]
    }
   ],
   "source": [
    "#4.Tìm kiếm một chuỗi con trong một chuỗi\n",
    "#• Cho chuỗi sau:\n",
    "us = \"we are\"\n",
    "print(us)\n",
    "#• Tìm vị trí của ký tự e bằng phương thức .find():\n",
    "positions = us.find(\"e\")\n",
    "print(positions)\n",
    "#• Tìm vị trí của ký tự e bằng một cách khác:\n",
    "#khởi tạo dãy vị trí\n",
    "positions=[]\n",
    "\n",
    "#tìm tất cả\n",
    "for i in range(len(us)):\n",
    "    if us[i]==\"e\":\n",
    "        positions.append(i)\n",
    "\n",
    "print(positions)\n",
    "#• Tìm vị trí của ký tự f bằng phương thức .find():\n",
    "positions = us.find(\"f\")\n",
    "print(positions)"
   ]
  },
  {
   "cell_type": "code",
   "execution_count": 20,
   "id": "3d8b0904-bb48-4223-b16b-59091c8d90d0",
   "metadata": {},
   "outputs": [
    {
     "name": "stdout",
     "output_type": "stream",
     "text": [
      "I like going to the movies, traveling, and singing\n",
      "4\n"
     ]
    }
   ],
   "source": [
    "#5. Đếm số chuỗi con trong một chuỗi\n",
    "hobbies=\"I like going to the movies, traveling, and singing\"\n",
    "print(hobbies)\n",
    "#• Đếm số lượng chuỗi con bằng phương thức .count():\n",
    "demchuoi= hobbies.count(\"ing\")\n",
    "print(demchuoi)"
   ]
  },
  {
   "cell_type": "code",
   "execution_count": 21,
   "id": "340da696-97bb-47e0-8d8c-e5da085c5065",
   "metadata": {},
   "outputs": [
    {
     "name": "stdout",
     "output_type": "stream",
     "text": [
      "How are you\n",
      "['How', 'are', 'you']\n",
      "How are you\n"
     ]
    }
   ],
   "source": [
    "#6. Chuỗi vào danh sách và ngược lại\n",
    "string=\"How are you\"\n",
    "print(string)\n",
    "#• Chuyển đổi chuỗi thành danh sách các chuỗi trong đó mỗi phần tử là một từ:\n",
    "list_of_strings = string.split()\n",
    "\n",
    "print(list_of_strings)\n",
    "#• Chuyển đổi danh sách các chuỗi thành chuỗi bằng phương thức .join():\n",
    "#thêm khoảng trắng giữa các thành phần\n",
    "string_from_list = \" \".join(list_of_strings)\n",
    "print(string_from_list)"
   ]
  },
  {
   "cell_type": "code",
   "execution_count": 22,
   "id": "b96d95f1-184f-4e4d-9086-d9c2d15a54eb",
   "metadata": {},
   "outputs": [
    {
     "name": "stdout",
     "output_type": "stream",
     "text": [
      "Xin chào! Chúng tôi là DHV\n",
      "XIN CHÀO! CHÚNG TÔI LÀ DHV\n",
      "xin chào! chúng tôi là dhv\n",
      "Xin chào! chúng tôi là dhv\n",
      "Xin Chào! Chúng Tôi Là Dhv\n",
      "xIN CHÀO! cHÚNG TÔI LÀ dhv\n"
     ]
    }
   ],
   "source": [
    "#7. Thay đổi kiểu chữ\n",
    "loichao=\"Xin chào! Chúng tôi là DHV\"\n",
    "print(loichao)\n",
    "#• Sửa đổi chuỗi thành chữ hoa và chữ thường; chỉ đổi ký tự đầu tiên của chuỗi thành chữ\n",
    "#hoa, sau đó là từng từ trong chuỗi; cuối cùng, đảo ngược các trường hợp:\n",
    "#in hoa\n",
    "print(loichao.upper())\n",
    "\n",
    "#in thường\n",
    "print(loichao.lower())\n",
    "\n",
    "#Viết hoa chữ đầu tiên\n",
    "print(loichao.capitalize())\n",
    "\n",
    "# Viết hoa chữ cái đầu tiên mỗi chữ\n",
    "print(loichao.title())\n",
    "\n",
    "#Hoán đổi hoa thành thường, thường thành Hoa\n",
    "print(loichao.swapcase())"
   ]
  },
  {
   "cell_type": "code",
   "execution_count": 30,
   "id": "eb33f790-7570-403d-b929-1dcc0987d686",
   "metadata": {},
   "outputs": [
    {
     "name": "stdout",
     "output_type": "stream",
     "text": [
      "morning\n",
      "Good morning!\n",
      "Good morning !\n",
      "Good morning!\n",
      "Good morning!\n",
      "morning\n",
      "10\n",
      "Good morning!\n",
      "It's 10 a.m.\n",
      "\n",
      "Good morning !\n",
      "It's 10 a.m.\n",
      "\n",
      "Good morning!\n",
      "It's 10 a.m.\n",
      "\n",
      "Good morning!\n",
      "\n",
      "It's 10 a.m.\n",
      "1.23456\n",
      "Giá trị là 1.23\n",
      "Giá trị là  1.23\n",
      "Giá trị là 1.23\n",
      "Giá trị là 1.23 \n"
     ]
    }
   ],
   "source": [
    "#8. In biến\n",
    "chaosang=\"morning\"\n",
    "print(chaosang)\n",
    "#• In ra Good morning! theo 4 cách khác nhau, sử dụng (1) nối chuỗi, (2) phân tách bằng\n",
    "#dấu phẩy, (3) phương thức .format() và (4) chuỗi f:\n",
    "#(1) Nối chữ +\n",
    "print(\"Good \" + chaosang + \"!\")  # Fixed: Added closing quote and properly concatenated strings\n",
    "\n",
    "#(2) dùng dấu \",\"\n",
    "print(\"Good\", chaosang, \"!\")\n",
    "\n",
    "# (3) the method .format()\n",
    "print(\"Good {}!\".format(chaosang))\n",
    "\n",
    "# (4) f-strings\n",
    "print(f\"\"\"Good {chaosang}!\"\"\")\n",
    "#• Cho một chuỗi và một biến số:\n",
    "chaosang=\"morning\"\n",
    "thoigian=10\n",
    "print(chaosang)\n",
    "print(thoigian)\n",
    "#(1) nối chữ+\n",
    "\n",
    "print(\"Good \" + chaosang + \"!\\nIt's \" + str(thoigian) + \" a.m.\\n\")  # Fixed: Removed extra quote and added space\n",
    "\n",
    "#(2) dùng dấu \",\"\n",
    "\n",
    "print(\"Good\", chaosang, \"!\\nIt's\", thoigian, \"a.m.\\n\")  # Fixed: Added commas between items\n",
    "\n",
    "# (3) the method .format()\n",
    "\n",
    "print(\"Good {}!\\nIt's {} a.m.\\n\".format(chaosang, thoigian))\n",
    "\n",
    "# (4) f-strings\n",
    "\n",
    "print(f\"\"\"Good {chaosang}!\n",
    "\n",
    "It's {thoigian} a.m.\"\"\")\n",
    "#• Cho biến số sau:\n",
    "giatri=1.23456\n",
    "print(giatri)\n",
    "#(1) nối từ +\n",
    "\n",
    "print(\"Giá trị là \" + str(round(giatri, 2)))  \n",
    "\n",
    "#(2) dùng dấu \",\"\n",
    "\n",
    "print(\"Giá trị là \", str(round(giatri, 2))) \n",
    "\n",
    "# (3) the method .format()\n",
    "\n",
    "print(\"Giá trị là {:.2f}\".format(giatri)) \n",
    "\n",
    "# (4) f-strings\n",
    "\n",
    "print(f\"\"\"Giá trị là {giatri:.2f} \"\"\")  "
   ]
  },
  {
   "cell_type": "code",
   "execution_count": null,
   "id": "d81c2be0-87c5-4f12-947e-8d9601089d87",
   "metadata": {},
   "outputs": [],
   "source": []
  }
 ],
 "metadata": {
  "kernelspec": {
   "display_name": "Python [conda env:base] *",
   "language": "python",
   "name": "conda-base-py"
  },
  "language_info": {
   "codemirror_mode": {
    "name": "ipython",
    "version": 3
   },
   "file_extension": ".py",
   "mimetype": "text/x-python",
   "name": "python",
   "nbconvert_exporter": "python",
   "pygments_lexer": "ipython3",
   "version": "3.13.5"
  }
 },
 "nbformat": 4,
 "nbformat_minor": 5
}
