{
 "cells": [
  {
   "cell_type": "code",
   "execution_count": 1,
   "id": "fba87bdc-659f-40ea-bc9a-a4a049490e9c",
   "metadata": {},
   "outputs": [
    {
     "name": "stdout",
     "output_type": "stream",
     "text": [
      "Chương trình tính diện tích Tam Giác\n"
     ]
    },
    {
     "name": "stdin",
     "output_type": "stream",
     "text": [
      "Nhập cạnh a>0: 4\n",
      "Nhập cạnh b>0: 5\n",
      "Nhập cạnh c>0: 6\n"
     ]
    },
    {
     "name": "stdout",
     "output_type": "stream",
     "text": [
      "Diện tích = 9.921567416492215\n"
     ]
    }
   ],
   "source": [
    "#Câu 1: Viết hàm để Tính diện tích tam giác\n",
    "#Nhập vào 3 cạnh của tam giác, kiểm tra tính hợp lệ của tam giác, Sau đó tính diện tích theo công thức Herong:\n",
    "\n",
    "from math import sqrt\n",
    "\n",
    "print(\"Chương trình tính diện tích Tam Giác\")\n",
    "a=float(input(\"Nhập cạnh a>0:\"))\n",
    "b=float(input(\"Nhập cạnh b>0:\"))\n",
    "c=float(input(\"Nhập cạnh c>0:\"))\n",
    "if (a<=0 or b <=0 or c <=0) or (a+b)<=c or (a+c)<=b or b+c<=a:\n",
    "    print(\"Tam giác không hợp lệ\")\n",
    "else:\n",
    "    cv=a+b+c\n",
    "    p=cv/2\n",
    "    dt=sqrt(p*(p-a)*(p-b)*(p-c))\n",
    "    print(\"Diện tích =\",dt)"
   ]
  },
  {
   "cell_type": "code",
   "execution_count": 32,
   "id": "ea1734e3-ef5f-4a2a-acfe-a5a71b04520d",
   "metadata": {},
   "outputs": [
    {
     "name": "stdin",
     "output_type": "stream",
     "text": [
      "Máy đoán [1..100], mời bạn đoán:  4\n"
     ]
    },
    {
     "name": "stdout",
     "output_type": "stream",
     "text": [
      "Bạn đoán lần thứ 1\n",
      "Bạn đoán sai, số máy < số bạn\n"
     ]
    },
    {
     "name": "stdin",
     "output_type": "stream",
     "text": [
      "Máy đoán [1..100], mời bạn đoán:  3\n"
     ]
    },
    {
     "name": "stdout",
     "output_type": "stream",
     "text": [
      "Bạn đoán lần thứ 2\n",
      "Bạn đoán sai, số máy < số bạn\n"
     ]
    },
    {
     "name": "stdin",
     "output_type": "stream",
     "text": [
      "Máy đoán [1..100], mời bạn đoán:  2\n"
     ]
    },
    {
     "name": "stdout",
     "output_type": "stream",
     "text": [
      "Bạn đoán lần thứ 3\n",
      "Bạn đoán sai, số máy < số bạn\n"
     ]
    },
    {
     "name": "stdin",
     "output_type": "stream",
     "text": [
      "Máy đoán [1..100], mời bạn đoán:  1\n"
     ]
    },
    {
     "name": "stdout",
     "output_type": "stream",
     "text": [
      "Bạn đoán lần thứ 4\n",
      "Chúc mừng bạn đoán đúng, số máy là = 1\n"
     ]
    },
    {
     "name": "stdin",
     "output_type": "stream",
     "text": [
      "Tiếp không? (k để kết thúc):  k\n"
     ]
    },
    {
     "name": "stdout",
     "output_type": "stream",
     "text": [
      "Cám ơn bạn đã chơi Game!\n"
     ]
    }
   ],
   "source": [
    "#Câu 2: Viết Hàm để chơi Game Đoán Số\n",
    "#Máy ra 1 số trong đoạn [1...100]\n",
    "#Người chơi đoán số, chỉ được phép đoán sai 7 lần. Mỗi lần đoán sẽ thông báo số người chơi đoán nhỏ hơn hay lớn hơn số của mày và hiển thị số lần đoán\n",
    "#Game kết thúc khi: Đoán sai quá 7 lần hoặc đoán trúng trước 7 lần.\n",
    "#Sau khi game kết thúc hỏi người chơi có tiếp tục hay không?\n",
    "\n",
    "from random import randrange\n",
    "\n",
    "while True:\n",
    "    somay = randrange(1, 5)\n",
    "    win = False\n",
    "\n",
    "    # Vòng for giới hạn số lần đoán là 7\n",
    "    for solandoan in range(1, 8):\n",
    "        songuoi = int(input(\"Máy đoán [1..100], mời bạn đoán: \"))\n",
    "        print(\"Bạn đoán lần thứ\", solandoan)\n",
    "\n",
    "        if somay == songuoi:\n",
    "            print(\"Chúc mừng bạn đoán đúng, số máy là =\", somay)\n",
    "            win = True\n",
    "            break\n",
    "        elif somay > songuoi:\n",
    "            print(\"Bạn đoán sai, số máy > số bạn\")\n",
    "        else:\n",
    "            print(\"Bạn đoán sai, số máy < số bạn\")\n",
    "\n",
    "    if not win:\n",
    "        print(\"GAME OVER!, số máy =\", somay)\n",
    "\n",
    "    hoi = input(\"Tiếp không? (k để kết thúc): \")\n",
    "    if hoi.lower() == \"k\":\n",
    "        break\n",
    "\n",
    "print(\"Cám ơn bạn đã chơi Game!\")\n",
    "\n"
   ]
  },
  {
   "cell_type": "code",
   "execution_count": 22,
   "id": "690aacc3-f865-4735-87cb-44ea8abd9819",
   "metadata": {},
   "outputs": [
    {
     "name": "stdout",
     "output_type": "stream",
     "text": [
      "Nhập vào chiều cao:\n"
     ]
    },
    {
     "name": "stdin",
     "output_type": "stream",
     "text": [
      " 1.8\n"
     ]
    },
    {
     "name": "stdout",
     "output_type": "stream",
     "text": [
      "Nhập vào cân nặng:\n"
     ]
    },
    {
     "name": "stdin",
     "output_type": "stream",
     "text": [
      " 91\n"
     ]
    },
    {
     "name": "stdout",
     "output_type": "stream",
     "text": [
      "BMI của bạn= 28.086419753086417\n",
      "Phân loại bạn= Hơi Béo\n",
      "Nguy cơ bệnh của Thím= Cao\n"
     ]
    }
   ],
   "source": [
    "#Câu 3: Viết Hàm tính BMI\n",
    "\n",
    "def BMI(height,weight):\n",
    "    return weight/(height**2)\n",
    "def PhanLoai(bmi):\n",
    "    if bmi<18.5:\n",
    "        return \"Gầy\"\n",
    "    elif bmi<=24.9:\n",
    "        return \"Bình thường\"\n",
    "    elif bmi<=29.9:\n",
    "        return \"Hơi Béo\"\n",
    "    elif bmi<=34.9:\n",
    "        return \"Béo Phì Cấp Độ 1\"\n",
    "    elif bmi<=39.9:\n",
    "        return \"Béo Phì Cấp Độ 2\"\n",
    "    else:\n",
    "        return \"Béo Phì Cấp độ 3\"\n",
    "def NguyCoBenh(bmi):\n",
    "    if bmi<18.5:\n",
    "        return \"Thấp\"\n",
    "    elif bmi<=24.9:\n",
    "        return \"Trung Bình\"\n",
    "    elif bmi<=29.9:\n",
    "        return \"Cao\"\n",
    "    elif bmi<=34.9:\n",
    "        return \"Cao\"\n",
    "    elif bmi<=39.9:\n",
    "        return \"Rất cao\"\n",
    "    else:\n",
    "        return \"Nguy Hiểm\"\n",
    "print(\"Nhập vào chiều cao:\")\n",
    "height=float(input())\n",
    "print(\"Nhập vào cân nặng:\")\n",
    "weight=float(input())\n",
    "bmi=BMI(height,weight)\n",
    "print(\"BMI của bạn=\",bmi)\n",
    "print(\"Phân loại bạn=\",PhanLoai(bmi))\n",
    "print(\"Nguy cơ bệnh=\",NguyCoBenh(bmi))"
   ]
  },
  {
   "cell_type": "code",
   "execution_count": 25,
   "id": "fff68fd1-be2d-419d-8ba9-9c80cf2575dc",
   "metadata": {},
   "outputs": [
    {
     "name": "stdout",
     "output_type": "stream",
     "text": [
      "Chương trình tính ROI\n"
     ]
    },
    {
     "name": "stdin",
     "output_type": "stream",
     "text": [
      "Nhập Doanh Thu: 2\n",
      "Nhập chi phí: 4\n"
     ]
    },
    {
     "name": "stdout",
     "output_type": "stream",
     "text": [
      "Tỉ Lệ ROI= -0.5\n",
      "==> Không nên đầu tư\n"
     ]
    }
   ],
   "source": [
    "#Câu 4: Viết Hàm tính ROI\n",
    "#\tROI (Return On Investment), một thuật ngữ quan trọng trong marketing, mà đặc biệt là SEO, tạm dịch là tỷ lệ lợi nhuận thu được so với chi phí bạn đầu tư. Có thể hiểu ROI một cách đơn giản chính là chỉ số đo lường tỷ lệ những gì bạn thu về so với những gì bạn phải bỏ ra.\n",
    "#\tHiểu đúng bản chất của ROI, bạn sẽ đo lường được hiệu quả đồng vốn đầu tư của mình cho các chi phí như quảng cáo, chạy Adwords, hay chi phí marketing online khác.\n",
    "#\tVì ROI dựa vào các chỉ số cụ thể, nên nó cũng là một thước đo rất cụ thể:\n",
    "#\tROI = (Doanh thu – Chi phí)/Chi phí\n",
    "#\tViết chương trình cho phép người dùng nhập vào Doanh thu và Chi phí và xuất ra tỉ lệ ROI cho người dùng, đồng thời hãy cho biết nên hay không nên đầu tư dự án khi biết ROI (giả sử mức tổi thiểu ROI =0.75 thì mới đầu tư). \n",
    "        #Bài Làm \n",
    "# Hàm tính ROI (Return on Investment - Tỷ lệ hoàn vốn)\n",
    "# ROI = (Doanh thu - Chi phí) / Chi phí\n",
    "def ROI(dt, cp):\n",
    "    return (dt - cp) / cp  # Trả về tỷ lệ lợi nhuận so với chi phí bỏ ra\n",
    "\n",
    "# Hàm gợi ý đầu tư dựa trên giá trị ROI\n",
    "# Nếu ROI >= 0.75 thì nên đầu tư, ngược lại không nên đầu tư\n",
    "def GoiYDauTu(roi):\n",
    "    if roi >= 0.75:\n",
    "        return \"Nên đầu tư\"\n",
    "    else:\n",
    "        return \"Không nên đầu tư\"\n",
    "\n",
    "print(\"Chương trình tính ROI\")\n",
    "\n",
    "# Nhập doanh thu từ người dùng, chuyển sang kiểu số nguyên\n",
    "dt = int(input(\"Nhập Doanh Thu:\"))\n",
    "\n",
    "# Nhập chi phí từ người dùng, chuyển sang kiểu số nguyên\n",
    "cp = int(input(\"Nhập chi phí:\"))\n",
    "\n",
    "# Tính ROI dựa trên doanh thu và chi phí nhập vào\n",
    "roi = ROI(dt, cp)\n",
    "\n",
    "# In ra tỷ lệ ROI (dạng số thực)\n",
    "print(\"Tỉ Lệ ROI =\", roi)\n",
    "\n",
    "# In ra gợi ý đầu tư dựa trên ROI tính được\n",
    "print(\"==>\", GoiYDauTu(roi))\n",
    "\n"
   ]
  },
  {
   "cell_type": "code",
   "execution_count": 50,
   "id": "f758b9b6-e0e1-426c-b197-8cf797e6b747",
   "metadata": {},
   "outputs": [
    {
     "name": "stdout",
     "output_type": "stream",
     "text": [
      "34\n",
      "1\t1\t2\t3\t5\t8\t13\t21\t34\t"
     ]
    }
   ],
   "source": [
    "#Câu 5: Viết hàm đệ qui Fibonacci\n",
    "#Dãy Số Fibonacci là dãy số có dạng:\n",
    "#1->1->2->3->5->8->13->21->34->55->89…\n",
    "#Được định nghĩa theo công thức đệ qui như dưới đây:\n",
    "#Nếu N=1,N=2->FN=1\n",
    "#N>2 FN=FN-1+FN-2\n",
    "#Hãy viết 2 hàm:\n",
    " #- Hàm trả về số Fib tại vị trí thứ N bất kỳ\n",
    " #- Hàm trả về danh sách dãy số Fib từ 1 tới N\n",
    "\n",
    "def fibonacci(n):\n",
    "    if n<=2 :\n",
    "        return 1\n",
    "    return fibonacci(n-1)+fibonacci(n-2)\n",
    "\n",
    "def listfibo(n):\n",
    "    for i in range(1,n+1):\n",
    "        print(fibonacci(i),end='\\t')\n",
    "\n",
    "print(fibonacci(9))\n",
    "\n",
    "listfibo(9)\n"
   ]
  },
  {
   "cell_type": "code",
   "execution_count": 57,
   "id": "dfabbbad-33ef-41e1-b6e8-56964b187231",
   "metadata": {},
   "outputs": [
    {
     "name": "stdout",
     "output_type": "stream",
     "text": [
      "Kiểm tra các giá trị có thể xuất hiện trong randrange(0, 100):\n",
      "4.5  không thể xuất hiện\n",
      "34  có thể xuất hiện\n",
      "-1  không thể xuất hiện\n",
      "100  không thể xuất hiện\n",
      "0  có thể xuất hiện\n",
      "99  có thể xuất hiện\n"
     ]
    }
   ],
   "source": [
    "#Câu 6: Những giá trị nào có thể xuất hiện trong  randrange(0, 100)\n",
    "#Những giá trị nào có thể xuất hiện khi chạy randrange(0, 100)?\n",
    "    \t#4.5 , 34 , -1,  100,  0,  99\n",
    "\n",
    "\n",
    "from random import randrange  # Nhập hàm randrange từ module random\n",
    "\n",
    "# Danh sách các giá trị cần kiểm tra\n",
    "values = [4.5, 34, -1, 100, 0, 99]\n",
    "\n",
    "print(\"Kiểm tra các giá trị có thể xuất hiện trong randrange(0, 100):\")\n",
    "\n",
    "# Lặp qua từng giá trị trong danh sách values\n",
    "for v in values:\n",
    "    # Kiểm tra xem giá trị có phải số nguyên (int) và nằm trong khoảng 0 đến 99 hay không\n",
    "    # Vì randrange(0, 100) trả về số nguyên từ 0 đến 99, không bao gồm 100\n",
    "    if isinstance(v, int) and 0 <= v < 100:\n",
    "        print(v, \" có thể xuất hiện\")  # In ra nếu giá trị có thể xuất hiện\n",
    "    else:\n",
    "        print(v, \" không thể xuất hiện\")  # In ra nếu giá trị không thể xuất hiện\n",
    "\n"
   ]
  },
  {
   "cell_type": "code",
   "execution_count": 60,
   "id": "7c18bf1d-0768-4915-9cce-7df7cebee775",
   "metadata": {},
   "outputs": [
    {
     "name": "stdin",
     "output_type": "stream",
     "text": [
      "Nhập xA:  5\n",
      "Nhập yA:  5\n",
      "Nhập xB:  6\n",
      "Nhập yB:  6\n"
     ]
    },
    {
     "name": "stdout",
     "output_type": "stream",
     "text": [
      "Độ dài đoạn AB = 1.4142135623730951\n"
     ]
    }
   ],
   "source": [
    "#Câu 7: Tính và xuất độ dài đoạn AB\n",
    "\n",
    "from math import sqrt\n",
    "\n",
    "# Nhập tọa độ điểm A\n",
    "xA = float(input(\"Nhập xA: \"))\n",
    "yA = float(input(\"Nhập yA: \"))\n",
    "\n",
    "# Nhập tọa độ điểm B\n",
    "xB = float(input(\"Nhập xB: \"))\n",
    "yB = float(input(\"Nhập yB: \"))\n",
    "\n",
    "# Tính độ dài đoạn AB theo công thức\n",
    "do_dai_AB = sqrt((xB - xA)**2 + (yB - yA)**2)\n",
    "\n",
    "# In kết quả\n",
    "print(\"Độ dài đoạn AB =\", do_dai_AB)\n"
   ]
  },
  {
   "cell_type": "code",
   "execution_count": 62,
   "id": "bdaf333b-f7b5-4bf9-ae24-71bb043e7951",
   "metadata": {},
   "outputs": [
    {
     "name": "stdin",
     "output_type": "stream",
     "text": [
      "Nhập x (x > 0):  5\n",
      "Nhập a (a > 0 và a != 1):  3\n"
     ]
    },
    {
     "name": "stdout",
     "output_type": "stream",
     "text": [
      "log_3.0(5.0) = 1.4649735207179269\n"
     ]
    }
   ],
   "source": [
    "#Câu 8: Viết chương trình tính logax\n",
    "\n",
    "#Yêu cầu:\n",
    "#Viết chương trình tính logax với a, x là các số thực nhập vào từ bàn phím, và x>0, a>0, a != 1.( dùng logax=lnx/lna)\n",
    "\n",
    "from math import log\n",
    "\n",
    "# Nhập giá trị x và a\n",
    "x = float(input(\"Nhập x (x > 0): \"))\n",
    "a = float(input(\"Nhập a (a > 0 và a != 1): \"))\n",
    "\n",
    "# Kiểm tra điều kiện\n",
    "if x <= 0:\n",
    "    print(\"Sai điều kiện: x phải lớn hơn 0\")\n",
    "elif a <= 0 or a == 1:\n",
    "    print(\"Sai điều kiện: a phải lớn hơn 0 và khác 1\")\n",
    "else:\n",
    "    # Công thức log_a(x) = ln(x) / ln(a)\n",
    "    result = log(x) / log(a)\n",
    "    # Sửa lỗi cú pháp trong câu lệnh print\n",
    "    print(f\"log_{a}({x}) = {result}\")"
   ]
  },
  {
   "cell_type": "code",
   "execution_count": 63,
   "id": "2abfc28c-167e-46e9-8061-72cce9be4d7f",
   "metadata": {},
   "outputs": [
    {
     "name": "stdin",
     "output_type": "stream",
     "text": [
      "Nhập n:  5\n"
     ]
    },
    {
     "name": "stdout",
     "output_type": "stream",
     "text": [
      "S(5) = 1.9975909124103448\n"
     ]
    }
   ],
   "source": [
    "#Câu 9\n",
    "\n",
    "import math  # Nhập thư viện math để dùng hàm sqrt (căn bậc hai)\n",
    "\n",
    "def nested_sqrt_iter(n):\n",
    "    result = 0  # Khởi tạo biến result để lưu kết quả từng bước\n",
    "    for _ in range(n):  # Lặp n lần, mỗi lần tính một dấu căn lồng nhau\n",
    "        result = math.sqrt(2 + result)  # Cập nhật result = sqrt(2 + result trước đó)\n",
    "    return result  # Trả về kết quả cuối cùng sau n lần lồng căn\n",
    "\n",
    "# Nhập số n từ người dùng\n",
    "n = int(input(\"Nhập n: \"))\n",
    "\n",
    "# Gọi hàm tính và lưu kết quả\n",
    "result = nested_sqrt_iter(n)\n",
    "\n",
    "# In kết quả ra màn hình\n",
    "print(f\"S({n}) = {result}\")\n"
   ]
  },
  {
   "cell_type": "code",
   "execution_count": 69,
   "id": "e1db4ef1-b162-4c37-9a42-11e6a755f467",
   "metadata": {},
   "outputs": [
    {
     "name": "stdout",
     "output_type": "stream",
     "text": [
      "\n",
      "          *   \n",
      "          * *  \n",
      "          * * *\n",
      "    * * * * * * * \n",
      "    * * *\n",
      "    * *\n",
      "    *\n",
      "    \n",
      "\n",
      "------------------------------\n",
      "\n",
      "\n",
      "          *   \n",
      "          * *  \n",
      "          * * *\n",
      "    * * * * * * * \n",
      "    *   *\n",
      "    * *\n",
      "    *\n",
      "    \n",
      "\n",
      "------------------------------\n",
      "\n",
      "\n",
      "        * * * *\n",
      "        * * *\n",
      "        * *\n",
      "        *\n",
      "      * *\n",
      "    * * *\n",
      "  * * * *\n",
      "    \n",
      "\n",
      "------------------------------\n",
      "\n",
      "\n",
      "        * * * *\n",
      "        *   *\n",
      "        * *\n",
      "        *\n",
      "      * *\n",
      "    *   *\n",
      "  * * * *\n",
      "    \n",
      "\n",
      "------------------------------\n",
      "\n"
     ]
    }
   ],
   "source": [
    "import time\n",
    "\n",
    "# Định nghĩa các mẫu hình\n",
    "patterns = [\n",
    "    \"\"\"\n",
    "          *   \n",
    "          * *  \n",
    "          * * *\n",
    "    * * * * * * * \n",
    "    * * *\n",
    "    * *\n",
    "    *\n",
    "    \"\"\",\n",
    "    \"\"\"\n",
    "          *   \n",
    "          * *  \n",
    "          *   *\n",
    "    * * * * * * * \n",
    "    *   *\n",
    "    * *\n",
    "    *\n",
    "    \"\"\",\n",
    "    \"\"\"\n",
    "        * * * *\n",
    "        * * *\n",
    "        * *\n",
    "        *\n",
    "      * *\n",
    "    * * *\n",
    "  * * * *\n",
    "    \"\"\",\n",
    "    \"\"\"\n",
    "        * * * *\n",
    "        *   *\n",
    "        * *\n",
    "        *\n",
    "      * *\n",
    "    *   *\n",
    "  * * * *\n",
    "    \"\"\"\n",
    "]\n",
    "\n",
    "# Hàm hiển thị các mẫu hình với độ trễ 5 giây\n",
    "def display_patterns():\n",
    "    for pattern in patterns:\n",
    "        print(pattern)\n",
    "        time.sleep(5)  # Dừng lại 5 giây trước khi hiển thị mẫu tiếp theo\n",
    "        print(\"\\n\" + \"-\"*30 + \"\\n\")  # Dấu phân cách giữa các mẫu hình\n",
    "\n",
    "# Gọi hàm để hiển thị các mẫu hình\n",
    "display_patterns()\n"
   ]
  },
  {
   "cell_type": "code",
   "execution_count": 79,
   "id": "9454b00a-534c-4824-88d9-32120c0d70bf",
   "metadata": {},
   "outputs": [
    {
     "name": "stdout",
     "output_type": "stream",
     "text": [
      "5\n",
      "5\n",
      "0\n"
     ]
    }
   ],
   "source": [
    "#Câu 11: Kiểm tra kết quả thực hiện\n",
    "#trường hợp 1\n",
    "def sum1(n):\n",
    "    s = 0\n",
    "    while n > 0:\n",
    "        s += 1\n",
    "        n -= 1\n",
    "    return s\n",
    "def sum2():\n",
    "    global val\n",
    "    s = 0\n",
    "    while val > 0:\n",
    "        s += 1\n",
    "        val -= 1\n",
    "    return s\n",
    "\n",
    "def sum3():\n",
    "    s = 0\n",
    "    for i in range(val, 0, -1):\n",
    "     s += 1\n",
    "    return s\n",
    "def main():\n",
    "    global val\n",
    "    val = 5\n",
    "    print(sum1(5))\n",
    "    print(sum2())\n",
    "    print(sum3())\n",
    "main()"
   ]
  },
  {
   "cell_type": "code",
   "execution_count": 77,
   "id": "172fc8e0-7c93-4d13-9f71-51cc5fb74228",
   "metadata": {},
   "outputs": [
    {
     "name": "stdout",
     "output_type": "stream",
     "text": [
      "5\n",
      "5\n",
      "5\n"
     ]
    }
   ],
   "source": [
    "#trường hợp 2\n",
    "def sum1(n):\n",
    "    s = 0\n",
    "    while n > 0:\n",
    "        s += 1\n",
    "        n -= 1\n",
    "    return s\n",
    "def sum2():\n",
    "    global val\n",
    "    s = 0\n",
    "    while val > 0:\n",
    "        s += 1\n",
    "        val -= 1\n",
    "    return s\n",
    "\n",
    "def sum3():\n",
    "    s = 0\n",
    "    for i in range(val, 0, -1):\n",
    "     s += 1\n",
    "    return s\n",
    "def main():\n",
    "    global val\n",
    "    val = 5\n",
    "    print(sum1(5))\n",
    "    print(sum3())\n",
    "    print(sum2())\n",
    "main()\n"
   ]
  },
  {
   "cell_type": "code",
   "execution_count": 78,
   "id": "76091bb5-0d71-4266-97ee-c36847b12da4",
   "metadata": {},
   "outputs": [
    {
     "name": "stdout",
     "output_type": "stream",
     "text": [
      "5\n",
      "5\n",
      "0\n"
     ]
    }
   ],
   "source": [
    "#trường hợp 3\n",
    "def sum1(n):\n",
    "    s = 0\n",
    "    while n > 0:\n",
    "        s += 1\n",
    "        n -= 1\n",
    "    return s\n",
    "def sum2():\n",
    "    global val\n",
    "    s = 0\n",
    "    while val > 0:\n",
    "        s += 1\n",
    "        val -= 1\n",
    "    return s\n",
    "\n",
    "def sum3():\n",
    "    s = 0\n",
    "    for i in range(val, 0, -1):\n",
    "     s += 1\n",
    "    return s\n",
    "def main():\n",
    "    global val\n",
    "    val = 5\n",
    "    print(sum2())\n",
    "    print(sum1(5))\n",
    "    print(sum3())\n",
    "main()"
   ]
  },
  {
   "cell_type": "code",
   "execution_count": 82,
   "id": "cd7f4e12-d313-4899-aed3-4ee13214f75e",
   "metadata": {},
   "outputs": [
    {
     "name": "stdout",
     "output_type": "stream",
     "text": [
      "-3 3  -2 2  -1 1  0 0  1 -1  2 -2  3 -3  4 -4  "
     ]
    }
   ],
   "source": [
    "#Câu 12: Hàm oscillate\n",
    "\n",
    "#Yêu cầu:\n",
    "#Cho mã lệnh:\n",
    " \n",
    "#Hãy viết hàm oscillate để khi chạy phần mềm, nó ra kết quả:\n",
    "#-3   3   -2   2   -1   1   0   0   1   -1   2   -2   3   -3   4   -4\n",
    "\n",
    "def oscillate():\n",
    "    # Tạo một danh sách các giá trị từ -3 đến 3, rồi từ 4 đến -4\n",
    "    for i in range(-3, 5):  # Tạo các số từ -3 đến 4\n",
    "        print(i, -i, end=\"  \")  # In ra i và -i, cách nhau bằng dấu cách\n",
    "\n",
    "# Gọi hàm để in ra kết quả\n",
    "oscillate()\n"
   ]
  },
  {
   "cell_type": "code",
   "execution_count": 89,
   "id": "df2c7cf8-1923-45c9-b79b-06e5b6e64caf",
   "metadata": {},
   "outputs": [
    {
     "name": "stdin",
     "output_type": "stream",
     "text": [
      "Nhập một số nguyên dương:  28\n"
     ]
    },
    {
     "name": "stdout",
     "output_type": "stream",
     "text": [
      "28  là số hoàn thiện (Perfect number).\n",
      "28  không phải là số thịnh vượng.\n"
     ]
    }
   ],
   "source": [
    "#Câu 13: Hàm kiểm tra số hoàn thiện, số thịnh vượng\n",
    "\n",
    "#Yêu cầu:\n",
    "#Viết hàm tính tổng ước số để áp dụng chung cho 2 bài dưới đây:\n",
    "#a)\tKiểm tra số nguyên dương n có phải là  số hoàn thiện (Pefect number) hay không? (Số hoàn thiện là số có tổng các ước số của nó (không kể nó) thì bằng chính nó. Vd: 6 có các ước số là 1,2,3 và 6=1+2+3 6 là số hoàn thiện)\n",
    "#b)\tKiểm tra số nguyên dương n có phải là  số thịnh vượng (Abundant number)hay không? (Số thịnh vượng là số có tổng các ước số của nó (không kể nó) thì lớn hơn nó. Vd:12 có các ước số là 1,2,3,4,6 và 12<1+2+3+4+6 12 là số thịnh vượng)\n",
    "\n",
    "# Hàm tính tổng các ước số của n (không tính chính nó)\n",
    "\n",
    "\n",
    "def sum_of_divisors(n):\n",
    "    total = 0  # Khởi tạo biến tổng bằng 0\n",
    "    for i in range(1, n // 2 + 1):  # Lặp qua các số từ 1 đến n//2\n",
    "        if n % i == 0:  # Nếu i là ước số của n\n",
    "            total += i  # Cộng i vào tổng\n",
    "    return total  # Trả về tổng các ước số\n",
    "\n",
    "# Hàm kiểm tra số hoàn thiện (Perfect number)\n",
    "def is_perfect(n):\n",
    "    # Số hoàn thiện là số có tổng các ước số (không kể chính nó) bằng chính nó\n",
    "    return sum_of_divisors(n) == n  # So sánh tổng ước số với chính n\n",
    "\n",
    "# Hàm kiểm tra số thịnh vượng (Abundant number)\n",
    "def is_abundant(n):\n",
    "    # Số thịnh vượng là số có tổng các ước số (không kể chính nó) lớn hơn chính nó\n",
    "    return sum_of_divisors(n) > n  # So sánh tổng ước số với n, nếu lớn hơn thì là số thịnh vượng\n",
    "\n",
    "# Hàm chính để nhập số và kiểm tra số đó\n",
    "def main():\n",
    "    n = int(input(\"Nhập một số nguyên dương: \"))  # Nhập một số nguyên dương\n",
    "    \n",
    "    # Kiểm tra nếu số là số hoàn thiện\n",
    "    if is_perfect(n):\n",
    "        print(n,\" là số hoàn thiện .\")  # Nếu là số hoàn thiện\n",
    "    else:\n",
    "        print(n,\" không phải là số hoàn thiện.\")  # Nếu không phải số hoàn thiện\n",
    "        \n",
    "    # Kiểm tra nếu số là số thịnh vượng\n",
    "    if is_abundant(n):\n",
    "        print(n,\" là số thịnh vượng (Abundant number).\")  # Nếu là số thịnh vượng\n",
    "    else:\n",
    "        print(n,\" không phải là số thịnh vượng.\")  # Nếu không phải số thịnh vượng\n",
    "\n",
    "# Gọi hàm main để bắt đầu chương trình\n",
    "main()\n"
   ]
  },
  {
   "cell_type": "code",
   "execution_count": 92,
   "id": "2b42f03e-c5f2-4518-bdf7-ffae1722cbf7",
   "metadata": {},
   "outputs": [
    {
     "name": "stdout",
     "output_type": "stream",
     "text": [
      "Nhập 1 chuỗi:\n"
     ]
    },
    {
     "name": "stdin",
     "output_type": "stream",
     "text": [
      " 4 2 5 6 5\n"
     ]
    },
    {
     "name": "stdout",
     "output_type": "stream",
     "text": [
      "Chuỗi bạn nhập không đối xứng\n",
      "Tiếp không Thím?(c/k):\n"
     ]
    },
    {
     "name": "stdin",
     "output_type": "stream",
     "text": [
      " k\n"
     ]
    },
    {
     "name": "stdout",
     "output_type": "stream",
     "text": [
      "CÁM ƠN THÍM\n"
     ]
    }
   ],
   "source": [
    "#Câu 1: Kiểm tra chuỗi đối xứng\n",
    "#Yêu cầu:\n",
    "#Dùng vòng lặp while vĩnh cửu, cho phép Nhập vào một Chuỗi->Xuất Chuỗi này có phải đối xứng hay không? Hỏi người sử dụng có tiếp tục phần mềm. Nếu tiếp tục thì nhập Chuỗi mới, còn không thì thoát và thông báo cảm ơn.\n",
    "\n",
    "\n",
    "def CheckDoiXung(s):\n",
    "    # Hàm kiểm tra xem chuỗi s có phải là chuỗi đối xứng hay không\n",
    "    flag = True  # Khởi tạo biến flag để đánh dấu, giả sử chuỗi đối xứng\n",
    "    for i in range(len(s)):\n",
    "        # Duyệt từ vị trí i đầu chuỗi\n",
    "        # So sánh ký tự thứ i với ký tự đối xứng ở cuối chuỗi (len(s)-i-1)\n",
    "        if s[i] != s[len(s) - i - 1]:\n",
    "            flag = False  # Nếu khác nhau, chuỗi không đối xứng\n",
    "            break  # Dừng vòng lặp ngay khi phát hiện khác\n",
    "    return flag  # Trả về kết quả kiểm tra (True hoặc False)\n",
    "\n",
    "def main():\n",
    "    print(\"Nhập 1 chuỗi:\")\n",
    "    s = input()  # Nhập chuỗi từ người dùng\n",
    "    if CheckDoiXung(s):\n",
    "        print(\"Chuỗi bạn nhập đối xứng\")\n",
    "    else:\n",
    "        print(\"Chuỗi bạn nhập không đối xứng\")\n",
    "\n",
    "while True:\n",
    "    main()  # Gọi hàm main để nhập chuỗi và kiểm tra\n",
    "    print(\"Tiếp không Thím?(c/k):\")\n",
    "    s = input()  # Nhận câu trả lời có tiếp tục hay không\n",
    "    if s == \"k\":  # Nếu người dùng nhập 'k' thì thoát vòng lặp\n",
    "        break\n",
    "\n",
    "print(\"CÁM ƠN THÍM\")  # In lời cảm ơn khi kết thúc chương trình\n",
    "\n"
   ]
  },
  {
   "cell_type": "code",
   "execution_count": 91,
   "id": "32822f84-d883-41db-b5d2-afd1d03b910a",
   "metadata": {},
   "outputs": [
    {
     "name": "stdout",
     "output_type": "stream",
     "text": [
      "    Trần     Duy     Thanh    => 29\n",
      "Trần Duy Thanh => 14\n"
     ]
    }
   ],
   "source": [
    "#Câu 2: Viết chương trình tối ưu chuỗi\n",
    "#Yêu cầu:\n",
    "#Một Chuỗi được gọi là tối ưu khi: Không chứa các khoảng trắng dư thừa, các từ cách nhau bởi một khoảng trắng\n",
    "\n",
    "def ToiUuChuoi(s):\n",
    "    # Gán biến s2 bằng giá trị của chuỗi s ban đầu\n",
    "    s2 = s\n",
    "\n",
    "    # Loại bỏ khoảng trắng ở đầu và cuối chuỗi s2\n",
    "    s2 = s2.strip()\n",
    "\n",
    "    # Tách chuỗi s2 thành một danh sách các từ, dựa trên dấu cách\n",
    "    arr = s2.split(' ')\n",
    "\n",
    "    # Khởi tạo lại chuỗi s2 thành chuỗi rỗng để lưu kết quả\n",
    "    s2 = \"\"\n",
    "\n",
    "    # Duyệt từng phần tử (từ) trong danh sách arr\n",
    "    for x in arr:\n",
    "        word = x  # Gán word bằng x (một từ)\n",
    "\n",
    "        # Kiểm tra nếu từ không phải là chuỗi rỗng sau khi loại bỏ khoảng trắng\n",
    "        if len(word.strip()) != 0:\n",
    "            # Nối từ vào chuỗi s2, thêm dấu cách ở cuối\n",
    "            s2 = s2 + word + \" \"\n",
    "\n",
    "    # Loại bỏ khoảng trắng thừa ở cuối chuỗi s2 rồi trả về chuỗi đã tối ưu\n",
    "    return s2.strip()\n",
    "\n",
    "# Chuỗi đầu vào có nhiều khoảng trắng thừa\n",
    "s = \"    Trần     Duy     Thanh   \"\n",
    "print(s, \"=>\", len(s))  # In chuỗi gốc và độ dài\n",
    "\n",
    "# Gọi hàm tối ưu chuỗi, loại bỏ khoảng trắng thừa giữa các từ và đầu/cuối chuỗi\n",
    "s = ToiUuChuoi(s)\n",
    "print(s, \"=>\", len(s))  # In chuỗi sau khi tối ưu và độ dài mới\n"
   ]
  },
  {
   "cell_type": "code",
   "execution_count": 93,
   "id": "a8db56d3-5768-4795-af30-d6b42099dfb6",
   "metadata": {},
   "outputs": [
    {
     "name": "stdout",
     "output_type": "stream",
     "text": [
      "5\n",
      "7\n",
      "8\n",
      "-2\n",
      "8\n",
      "11\n",
      "-13\n",
      "9\n",
      "10\n",
      "Số chẵn = 4\n",
      "Số âm = 2\n",
      "Số Nguyên tố = 3\n",
      "Trung bình = 4.777777777777778\n"
     ]
    }
   ],
   "source": [
    "#Câu 3: Xử lý Tách chuỗi\n",
    "\n",
    "#Yêu cầu:\n",
    "#Cho 1 Chuỗi như sau “5;7;8;-2;8;11;13;9;10” (có thể nhập bất kỳ từ bàn phím)\n",
    "#-\txuất các chữ số trên các dòng riêng biệt\n",
    "#-\tXuất có bao nhiêu chữ số chẵn\n",
    "#-\tXuất có bao nhiêu số âm\n",
    "#-\tXuất có bao nhiêu chữ số nguyên tố\n",
    "#-\tTính giá trị trung bình\n",
    "\n",
    "def CheckPrime(x):\n",
    "    # Hàm kiểm tra số nguyên tố\n",
    "    # Một số nguyên tố chỉ chia hết cho 1 và chính nó, tức có đúng 2 ước\n",
    "    dem = 0  # Biến đếm số ước của x\n",
    "    for i in range(1, x + 1):\n",
    "        if x % i == 0:\n",
    "            dem += 1\n",
    "    # Nếu số ước bằng 2 thì x là số nguyên tố\n",
    "    return dem == 2\n",
    "\n",
    "# Chuỗi các số cách nhau bằng dấu chấm phẩy\n",
    "s = \"5;7;8;-2;8;11;-13;9;10\"\n",
    "\n",
    "# Tách chuỗi thành danh sách các phần tử theo dấu ';'\n",
    "arr = s.split(';')\n",
    "\n",
    "# Khởi tạo biến đếm số chẵn, số âm, số nguyên tố và tổng\n",
    "sochan = 0\n",
    "soam = 0\n",
    "sont = 0\n",
    "sum = 0\n",
    "\n",
    "# Duyệt từng phần tử trong danh sách\n",
    "for x in arr:\n",
    "    print(x)  # In từng số (dạng chuỗi)\n",
    "    number = int(x)  # Chuyển chuỗi thành số nguyên\n",
    "\n",
    "    if number % 2 == 0:  # Kiểm tra số chẵn\n",
    "        sochan += 1\n",
    "\n",
    "    if number < 0:  # Kiểm tra số âm\n",
    "        soam += 1\n",
    "\n",
    "    if CheckPrime(number):  # Kiểm tra số nguyên tố\n",
    "        sont += 1\n",
    "\n",
    "    sum = sum + number  # Cộng dồn tổng các số\n",
    "\n",
    "# In kết quả cuối cùng\n",
    "print(\"Số chẵn =\", sochan)\n",
    "print(\"Số âm =\", soam)\n",
    "print(\"Số Nguyên tố =\", sont)\n",
    "print(\"Trung bình =\", sum / len(arr))\n"
   ]
  },
  {
   "cell_type": "code",
   "execution_count": 95,
   "id": "df9d2aef-c882-4c2b-a6d5-d4feb9454c74",
   "metadata": {},
   "outputs": [
    {
     "data": {
      "text/plain": [
       "'\\n* `strip()`\\n* `split()`\\n* `join()`\\n* `replace()`\\n* `lower()`\\n* `upper()`\\n* `find()`\\n* `startswith()`\\n* `endswith()`\\n* `count()`\\n* `isdigit()`\\n* `isalpha()`\\n* `isalnum()`\\n* `capitalize()`\\n* `title()`\\n* `splitlines()`\\n'"
      ]
     },
     "execution_count": 95,
     "metadata": {},
     "output_type": "execute_result"
    }
   ],
   "source": [
    "#Câu 4: Các hàm quan trọng trong xử lý chuỗi của Python\n",
    "\n",
    "#Yêu cầu:\n",
    "#Trình bày một số hàm quan trọng trong xử lý Chuỗi của Python\n",
    "#Dưới đây là danh sách **các hàm quan trọng trong xử lý chuỗi Python** (chỉ tên hàm):\n",
    "'''\n",
    "* `strip()`\n",
    "* `split()`\n",
    "* `join()`\n",
    "* `replace()`\n",
    "* `lower()`\n",
    "* `upper()`\n",
    "* `find()`\n",
    "* `startswith()`\n",
    "* `endswith()`\n",
    "* `count()`\n",
    "* `isdigit()`\n",
    "* `isalpha()`\n",
    "* `isalnum()`\n",
    "* `capitalize()`\n",
    "* `title()`\n",
    "* `splitlines()`\n",
    "'''"
   ]
  },
  {
   "cell_type": "code",
   "execution_count": 96,
   "id": "8e5106ae-9b40-40ce-bb8c-c458cc20a122",
   "metadata": {},
   "outputs": [
    {
     "name": "stdin",
     "output_type": "stream",
     "text": [
      "Nhập chuỗi:  võ bảo anh\n"
     ]
    },
    {
     "name": "stdout",
     "output_type": "stream",
     "text": [
      "Số chữ IN HOA: 0\n",
      "Số chữ in thường: 8\n",
      "Số chữ số: 0\n",
      "Số ký tự đặc biệt: 0\n",
      "Số khoảng trắng: 2\n",
      "Số nguyên âm: 2\n",
      "Số phụ âm: 6\n"
     ]
    }
   ],
   "source": [
    "#Câu 5: Xử lý chuỗi với các hàm cơ bản\n",
    "\n",
    "#Yêu cầu:\n",
    "#Viết chương trình cho phép nhập vào 1 chuỗi. Yêu cầu xuất ra:\n",
    "#-\tBao nhiêu chữ IN HOA\n",
    "#-\tBao nhiêu chữ in thường\n",
    "#-\tBao nhiêu chữ là chữ số\n",
    "#-\tBao nhiêu chữ là ký tự đặc biệt\n",
    "#-\tBao nhiêu chữ là khoảng trắng\n",
    "#-\tBao nhiêu chữ là Nguyên Âm\n",
    "#-\tBao nhiêu chữ là Phụ âm\n",
    "\n",
    "# Nhập chuỗi từ người dùng\n",
    "chuoi = input(\"Nhập chuỗi: \")\n",
    "\n",
    "# Khởi tạo biến đếm tất cả đều bắt đầu bằng 0\n",
    "chu_in_hoa = 0       # chữ in hoa\n",
    "chu_in_thuong = 0    # chữ in thường\n",
    "chu_so = 0           # chữ số\n",
    "ky_tu_dac_biet = 0   # ký tự đặc biệt\n",
    "khoang_trang = 0     # khoảng trắng\n",
    "nguyen_am = 0        # nguyên âm\n",
    "phu_am = 0           # phụ âm\n",
    "\n",
    "# Tập hợp các nguyên âm (cả in hoa và thường)\n",
    "nguyen_am_list = ['a', 'e', 'i', 'o', 'u', 'A', 'E', 'I', 'O', 'U']\n",
    "\n",
    "# Duyệt từng ký tự trong chuỗi\n",
    "for ky_tu in chuoi:\n",
    "    # Kiểm tra chữ in hoa\n",
    "    if ky_tu.isupper():\n",
    "        chu_in_hoa += 1\n",
    "    # Kiểm tra chữ in thường\n",
    "    if ky_tu.islower():\n",
    "        chu_in_thuong += 1\n",
    "    # Kiểm tra chữ số\n",
    "    if ky_tu.isdigit():\n",
    "        chu_so += 1\n",
    "    # Kiểm tra khoảng trắng\n",
    "    if ky_tu == ' ':\n",
    "        khoang_trang += 1\n",
    "    # Kiểm tra ký tự đặc biệt (không phải chữ và số và khoảng trắng)\n",
    "    if not ky_tu.isalnum() and ky_tu != ' ':\n",
    "        ky_tu_dac_biet += 1\n",
    "    # Kiểm tra nguyên âm và phụ âm (chỉ áp dụng với chữ cái)\n",
    "    if ky_tu.isalpha():\n",
    "        if ky_tu in nguyen_am_list:\n",
    "            nguyen_am += 1\n",
    "        else:\n",
    "            phu_am += 1\n",
    "\n",
    "# In kết quả ra màn hình\n",
    "print(\"Số chữ IN HOA:\", chu_in_hoa)\n",
    "print(\"Số chữ in thường:\", chu_in_thuong)\n",
    "print(\"Số chữ số:\", chu_so)\n",
    "print(\"Số ký tự đặc biệt:\", ky_tu_dac_biet)\n",
    "print(\"Số khoảng trắng:\", khoang_trang)\n",
    "print(\"Số nguyên âm:\", nguyen_am)\n",
    "print(\"Số phụ âm:\", phu_am)\n"
   ]
  },
  {
   "cell_type": "code",
   "execution_count": 97,
   "id": "79e079b6-0b72-4e9d-9899-5f7249276647",
   "metadata": {},
   "outputs": [
    {
     "name": "stdout",
     "output_type": "stream",
     "text": [
      "-5\n",
      "-12\n"
     ]
    }
   ],
   "source": [
    "#Câu 6: Trích lọc số âm trong chuỗi\n",
    "\n",
    "#Yêu cầu:\n",
    "#Viết một hàm đặt tên là NegativeNumberInStrings(str). Hàm này có đối số truyền vào là một chuỗi bất kỳ, Hãy viết lệnh để xuất ra các số nguyên âm trong chuỗi.\n",
    "#Ví dụ: Nếu nhập vào chuỗi “abc-5xyz-12k9l--p” thì hàm phải xuất ra được 2 số nguyên âm đó là -5 và -12\n",
    "\n",
    "def NegativeNumberInStrings(s):\n",
    "    i = 0                      # Khởi tạo biến i làm chỉ số để duyệt chuỗi\n",
    "    n = len(s)                 # Độ dài chuỗi s\n",
    "    negative_numbers = []      # Danh sách lưu các số âm tìm được\n",
    "\n",
    "    while i < n:\n",
    "        # Nếu ký tự hiện tại là dấu '-' và ký tự kế tiếp là số (đảm bảo i+1 < n)\n",
    "        if s[i] == '-' and i + 1 < n and s[i+1].isdigit():\n",
    "            j = i + 1          # Bắt đầu lấy số nguyên từ vị trí kế dấu '-'\n",
    "            # Duyệt tiếp cho đến khi không còn ký tự số nữa\n",
    "            while j < n and s[j].isdigit():\n",
    "                j += 1         # Tăng j để lấy toàn bộ phần số\n",
    "\n",
    "            num_str = s[i:j]   # Lấy chuỗi con từ dấu '-' đến hết số\n",
    "            negative_numbers.append(num_str)  # Thêm vào danh sách số âm\n",
    "            i = j              # Cập nhật i đến vị trí sau số vừa lấy\n",
    "        else:\n",
    "            i += 1             # Nếu không thỏa điều kiện, tăng i để kiểm tra ký tự kế tiếp\n",
    "\n",
    "    # In ra từng số âm tìm được\n",
    "    for num in negative_numbers:\n",
    "        print(num)\n",
    "\n",
    "# Ví dụ gọi hàm với chuỗi mẫu\n",
    "NegativeNumberInStrings(\"abc-5xyz-12k9l--p\")\n"
   ]
  },
  {
   "cell_type": "code",
   "execution_count": 3,
   "id": "c6fbcab5-d3b1-4405-a73c-d5b4378e926f",
   "metadata": {},
   "outputs": [
    {
     "name": "stdin",
     "output_type": "stream",
     "text": [
      "Nhập chuỗi danh từ cần tối ưu:  vo bao    anh\n"
     ]
    },
    {
     "name": "stdout",
     "output_type": "stream",
     "text": [
      "Chuỗi sau khi tối ưu: Vo Bao Anh\n"
     ]
    }
   ],
   "source": [
    "#Câu 7: Tối ưu chuỗi danh từ\n",
    "\n",
    "#Yêu cầu:\n",
    "#Viết chương trình tối ưu Chuỗi danh từ\n",
    "#Một Chuỗi được gọi là tối ưu khi: Không chứa các khoảng trắng dư thừa, các từ cách nhau bởi một khoảng trắng, Ký tự đầu tiên của các từ Viết Hoa\n",
    "#Ví dụ:\n",
    "#Input “     TRần    duY            thAnH   ”\n",
    "#Output “Trần Duy Thanh”\n",
    "\n",
    "def toi_uu_chuoi_danh_tu(chuoi):\n",
    "    \"\"\"\n",
    "    Hàm nhận vào một chuỗi, loại bỏ khoảng trắng thừa,\n",
    "    viết hoa chữ cái đầu của mỗi từ và trả về chuỗi tối ưu.\n",
    "    \"\"\"\n",
    "    # Bước 1: Bỏ khoảng trắng ở đầu và cuối chuỗi\n",
    "    chuoi = chuoi.strip()\n",
    "    \n",
    "    # Bước 2: Tách chuỗi thành danh sách các từ (dùng split tự xử lý nhiều khoảng trắng)\n",
    "    cac_tu = chuoi.split()\n",
    "    \n",
    "    # Bước 3: Viết hoa chữ cái đầu của mỗi từ\n",
    "    cac_tu_viet_hoa = []\n",
    "    for tu in cac_tu:\n",
    "        tu_viet_hoa = tu.capitalize()  # Viết hoa chữ đầu, chữ còn lại viết thường\n",
    "        cac_tu_viet_hoa.append(tu_viet_hoa)\n",
    "    \n",
    "    # Bước 4: Nối các từ lại thành chuỗi, cách nhau đúng 1 dấu cách\n",
    "    chuoi_toi_uu = ' '.join(cac_tu_viet_hoa)\n",
    "    \n",
    "    # Trả về chuỗi đã tối ưu\n",
    "    return chuoi_toi_uu\n",
    "\n",
    "\n",
    "# Phần chính: nhập chuỗi từ người dùng và in ra kết quả\n",
    "if __name__ == \"__main__\":\n",
    "    chuoi_dau_vao = input(\"Nhập chuỗi danh từ cần tối ưu: \")\n",
    "    ket_qua = toi_uu_chuoi_danh_tu(chuoi_dau_vao)\n",
    "    print(\"Chuỗi sau khi tối ưu:\", ket_qua)"
   ]
  },
  {
   "cell_type": "code",
   "execution_count": 99,
   "id": "4d7c0ef7-525d-496b-9583-e18b0df1092c",
   "metadata": {},
   "outputs": [
    {
     "name": "stdout",
     "output_type": "stream",
     "text": [
      "Tên file: muabui.mp3\n",
      "Tên bài hát: muabui\n"
     ]
    }
   ],
   "source": [
    "#Câu 8: Tách lấy tên bài hát\n",
    "\n",
    "#Yêu cầu:\n",
    "#Cho một chuỗi là đường dẫn của 1 file nhạc, ví dụ: d:\\\\music\\muabui.mp3\n",
    "#Hãy viết 2 hàm để:\n",
    "#-\tLấy ra muabui.mp3\n",
    "#-\tLấy ra muabui\n",
    "#Lưu ý đường dẫn bài hát là bất kỳ. Nên khi truyền vào bài hát nào thì lấy chính xác theo bài hát đó.\n",
    "\n",
    "def lay_ten_file(duong_dan):\n",
    "    # Hàm này lấy phần cuối cùng của đường dẫn (tên file + đuôi)\n",
    "    # Dùng split với dấu gạch chéo và lấy phần cuối cùng\n",
    "    import os\n",
    "    return os.path.basename(duong_dan)\n",
    "\n",
    "def lay_ten_bai_hat(duong_dan):\n",
    "    # Hàm này lấy tên bài hát, không có phần đuôi mở rộng\n",
    "    import os\n",
    "    ten_file = os.path.basename(duong_dan)  # lấy tên file\n",
    "    ten_bai_hat, _ = os.path.splitext(ten_file)  # tách phần mở rộng\n",
    "    return ten_bai_hat\n",
    "\n",
    "\n",
    "# Ví dụ sử dụng:\n",
    "duong_dan = r\"d:\\\\music\\\\muabui.mp3\"   # dùng raw string để tránh lỗi escape\n",
    "print(\"Tên file:\", lay_ten_file(duong_dan))       # Output: muabui.mp3\n",
    "print(\"Tên bài hát:\", lay_ten_bai_hat(duong_dan)) # Output: muabui\n"
   ]
  },
  {
   "cell_type": "code",
   "execution_count": null,
   "id": "3fdf7dcf-a927-456a-836b-a9becb0cbc99",
   "metadata": {},
   "outputs": [],
   "source": []
  }
 ],
 "metadata": {
  "kernelspec": {
   "display_name": "Python [conda env:anaconda3] *",
   "language": "python",
   "name": "conda-env-anaconda3-py"
  },
  "language_info": {
   "codemirror_mode": {
    "name": "ipython",
    "version": 3
   },
   "file_extension": ".py",
   "mimetype": "text/x-python",
   "name": "python",
   "nbconvert_exporter": "python",
   "pygments_lexer": "ipython3",
   "version": "3.13.5"
  }
 },
 "nbformat": 4,
 "nbformat_minor": 5
}
