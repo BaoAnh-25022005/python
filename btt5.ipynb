{
 "cells": [
  {
   "cell_type": "code",
   "execution_count": 3,
   "id": "acb62220-f220-4f8d-8924-2968c80ff5b1",
   "metadata": {},
   "outputs": [
    {
     "name": "stdout",
     "output_type": "stream",
     "text": [
      "Thank you Maria\n",
      "Thank you Xiao\n"
     ]
    }
   ],
   "source": [
    "#thực hành hàm\n",
    "#1.Thiệp cảm ơn cơ bản\n",
    "def print_thank_you(ten):\n",
    "\n",
    "    \"\"\"In ra một chuỗi chứa\n",
    "    \"Thank you\" và tên\n",
    "\n",
    "Tham số\n",
    "------------\n",
    "Tên: string\n",
    "    tên là của ai đó\n",
    "\n",
    "\"\"\"\n",
    "    print(\"Thank you\",ten)\n",
    "print_thank_you(\"Maria\")\n",
    "print_thank_you(\"Xiao\")"
   ]
  },
  {
   "cell_type": "code",
   "execution_count": 10,
   "id": "82a2d90f-d501-42ce-b95c-d694ed332126",
   "metadata": {},
   "outputs": [
    {
     "name": "stdout",
     "output_type": "stream",
     "text": [
      "Thank you Mrs Maria Lopez\n",
      "Thank you Mr Xiao Li\n"
     ]
    }
   ],
   "source": [
    "#2.Thiệp cảm ơn trang trọng\n",
    "def print_thank_you(tiento, ho, ten):\n",
    "    \"\"\"In ra một chuỗi chứa\n",
    "    \"Thank you\" và đầu vào\n",
    "\n",
    "    Tham số\n",
    "    ------------\n",
    "    Tiento: string\n",
    "        là ông hay bà\n",
    "    họ:string\n",
    "    tên : string\n",
    "        tên là tên của ai đó, mặc định\n",
    "        đang thiết lập là trống\n",
    "    \"\"\"\n",
    "    \n",
    "    print(\"Thank you\", tiento, ho, ten)\n",
    "\n",
    "print_thank_you(\"Mrs\", \"Maria\", \"Lopez\")\n",
    "print_thank_you(\"Mr\", \"Xiao\", \"Li\")  "
   ]
  },
  {
   "cell_type": "code",
   "execution_count": 11,
   "id": "8ca036db-1399-4f40-9375-433cb064aace",
   "metadata": {},
   "outputs": [
    {
     "name": "stdout",
     "output_type": "stream",
     "text": [
      "Thank you Mrs Maria Lopez\n",
      "Thank you Mr Xiao \n"
     ]
    }
   ],
   "source": [
    "#3.Thiếu tên\n",
    "#Thiệp cảm ơn trang trọng\n",
    "def print_thank_you(tiento, ho, ten=\"\"):\n",
    "    \"\"\"In ra một chuỗi chứa\n",
    "    \"Thank you\" và đầu vào\n",
    "\n",
    "    Tham số\n",
    "    ------------\n",
    "    Tiento: string\n",
    "        là ông hay bà\n",
    "    họ:string\n",
    "    tên : string\n",
    "        tên là tên của ai đó, mặc định\n",
    "        đang thiết lập là trống\n",
    "    \"\"\"\n",
    "    \n",
    "    print(\"Thank you\", tiento, ho, ten)\n",
    "print_thank_you(\"Mrs\", \"Maria\", \"Lopez\")\n",
    "print_thank_you(\"Mr\", \"Xiao\") "
   ]
  },
  {
   "cell_type": "code",
   "execution_count": 15,
   "id": "14d4e0f4-77af-4d12-952a-307dfbd40391",
   "metadata": {},
   "outputs": [
    {
     "name": "stdout",
     "output_type": "stream",
     "text": [
      "Ông/bà:  Mrs\n",
      "Ho:  Maria\n",
      "Ten:  Lopez\n",
      "Thank you Mrs Maria Lopez\n",
      "Ông/bà:  \n",
      "Ho:  Xiao\n",
      "Ten:  Li\n",
      "Thank you  Xiao Li\n"
     ]
    }
   ],
   "source": [
    "#4. Thiếu tiền tố và/hoặc họ\n",
    "def print_thank_you(tiento=\"\", ho=\"\", ten=\"\"):\n",
    "    \"\"\"In ra một chuỗi chứa\n",
    "    \"Thank you\" và đầu vào\n",
    "\n",
    "    Tham số\n",
    "    ------------\n",
    "    Tiento: string\n",
    "        là ông hay bà, mặc định\n",
    "        đang thiết lập là trống\n",
    "    họ:string\n",
    "        mặc định đang thiết lập là trống\n",
    "    tên : string\n",
    "        tên là tên của ai đó, mặc định\n",
    "        đang thiết lập là trống\n",
    "    \"\"\"\n",
    "    print(\"Ông/bà: \",tiento)\n",
    "    print(\"Ho: \",ho)\n",
    "    print(\"Ten: \",ten)\n",
    "    print(\"Thank you\", tiento, ho, ten)\n",
    "print_thank_you(\"Mrs\", \"Maria\", \"Lopez\")\n",
    "print_thank_you(ho=\"Xiao\",ten=\"Li\") "
   ]
  },
  {
   "cell_type": "code",
   "execution_count": 16,
   "id": "d9b85e6c-cdc2-4dae-940c-e2719a643de4",
   "metadata": {},
   "outputs": [
    {
     "name": "stdout",
     "output_type": "stream",
     "text": [
      "Chuỗi gốc: Python\n",
      "Chữ thường: python\n",
      "Chữ hoa: PYTHON\n",
      "Chữ cái đầu viết hoa: Python\n",
      "Đổi chỗ chữ hoa/thường: pYTHON\n",
      "------------------------------\n",
      "Chuỗi gốc: Data Science is Amazing\n",
      "Chữ thường: data science is amazing\n",
      "Chữ hoa: DATA SCIENCE IS AMAZING\n",
      "Chữ cái đầu viết hoa: Data Science Is Amazing\n",
      "Đổi chỗ chữ hoa/thường: dATA sCIENCE IS aMAZING\n",
      "------------------------------\n",
      "Chuỗi gốc: Hiking trails\n",
      "Chữ thường: hiking trails\n",
      "Chữ hoa: HIKING TRAILS\n",
      "Chữ cái đầu viết hoa: Hiking Trails\n",
      "Đổi chỗ chữ hoa/thường: hIKING TRAILS\n",
      "------------------------------\n",
      "Chuỗi gốc: weekEndcampIng\n",
      "Chữ thường: weekendcamping\n",
      "Chữ hoa: WEEKENDCAMPING\n",
      "Chữ cái đầu viết hoa: Weekendcamping\n",
      "Đổi chỗ chữ hoa/thường: WEEKeNDCAMPiNG\n",
      "------------------------------\n",
      "Chuỗi gốc: enjoying nature\n",
      "Chữ thường: enjoying nature\n",
      "Chữ hoa: ENJOYING NATURE\n",
      "Chữ cái đầu viết hoa: Enjoying Nature\n",
      "Đổi chỗ chữ hoa/thường: ENJOYING NATURE\n",
      "------------------------------\n",
      "Chuỗi gốc: fishing\n",
      "Chữ thường: fishing\n",
      "Chữ hoa: FISHING\n",
      "Chữ cái đầu viết hoa: Fishing\n",
      "Đổi chỗ chữ hoa/thường: FISHING\n",
      "------------------------------\n"
     ]
    }
   ],
   "source": [
    "#bt áp dụng 1\n",
    "def print_string_cases(input_string):\n",
    "    \"\"\"\n",
    "    In một chuỗi dưới các dạng khác nhau:\n",
    "    - chữ thường\n",
    "    - chữ hoa\n",
    "    - chữ cái đầu (viết hoa chữ cái đầu của mỗi từ)\n",
    "    - đổi chỗ các chữ cái (chữ hoa thành chữ thường và ngược lại)\n",
    "    \n",
    "    Tham số:\n",
    "    -----------\n",
    "    input_string: string\n",
    "        Chuỗi cần được định dạng và in ra\n",
    "    \"\"\"\n",
    "    print(\"Chuỗi gốc:\", input_string)\n",
    "    print(\"Chữ thường:\", input_string.lower())\n",
    "    print(\"Chữ hoa:\", input_string.upper())\n",
    "    print(\"Chữ cái đầu viết hoa:\", input_string.title())\n",
    "    print(\"Đổi chỗ chữ hoa/thường:\", input_string.swapcase())\n",
    "    print(\"-\" * 30)  # Dòng phân cách\n",
    "\n",
    "# Gọi hàm với một từ đơn\n",
    "print_string_cases(\"Python\")\n",
    "\n",
    "# Gọi hàm với nhiều từ\n",
    "print_string_cases(\"Data Science is Amazing\")\n",
    "\n",
    "# Gọi hàm cho từng phần tử trong danh sách bằng vòng lặp for\n",
    "summer_vacation = [\"Hiking trails\", \"weekEndcampIng\", \"enjoying nature\", \"fishing\"]\n",
    "for activity in summer_vacation:\n",
    "    print_string_cases(activity)"
   ]
  },
  {
   "cell_type": "code",
   "execution_count": 17,
   "id": "539cb587-cb21-4482-9db2-de0d622bfa65",
   "metadata": {},
   "outputs": [
    {
     "name": "stdout",
     "output_type": "stream",
     "text": [
      "Các chuỗi có độ dài 4 :\n",
      "Java\n",
      "Ruby\n",
      "------------------------------\n",
      "Các chuỗi có độ dài 6 :\n",
      "Python\n",
      "Kotlin\n",
      "------------------------------\n"
     ]
    }
   ],
   "source": [
    "#bt áp dụng 2\n",
    "def in_chuoi_theo_do_dai(danh_sach_chuoi, do_dai):\n",
    "    \"\"\"\n",
    "    Hàm nhận một danh sách các chuỗi và một số nguyên,\n",
    "    và chỉ in ra các chuỗi có độ dài khớp với số nguyên cho trước.\n",
    "    \n",
    "    Tham số:\n",
    "    -----------\n",
    "    danh_sach_chuoi: list\n",
    "        Danh sách các chuỗi cần kiểm tra\n",
    "    do_dai: int\n",
    "        Độ dài chuỗi cần tìm\n",
    "    \"\"\"\n",
    "    print(\"Các chuỗi có độ dài\", do_dai, \":\")\n",
    "    \n",
    "    # Duyệt qua từng chuỗi trong danh sách\n",
    "    for chuoi in danh_sach_chuoi:\n",
    "        # Kiểm tra nếu độ dài chuỗi bằng với số nguyên cho trước\n",
    "        if len(chuoi) == do_dai:\n",
    "            print(chuoi)\n",
    "    \n",
    "    print(\"-\" * 30)  # Dòng phân cách\n",
    "\n",
    "# Danh sách các chuỗi để kiểm tra\n",
    "cac_chuoi = [\"Python\", \"Java\", \"C++\", \"JavaScript\", \"Go\", \"Ruby\", \"PHP\", \"Swift\", \"Kotlin\"]\n",
    "\n",
    "# Gọi hàm với độ dài 4\n",
    "in_chuoi_theo_do_dai(cac_chuoi, 4)\n",
    "\n",
    "# Gọi hàm với độ dài 6\n",
    "in_chuoi_theo_do_dai(cac_chuoi, 6)"
   ]
  },
  {
   "cell_type": "code",
   "execution_count": 18,
   "id": "b29b74af-4ed3-4fcc-b9fa-1b3434839e9f",
   "metadata": {},
   "outputs": [
    {
     "name": "stdout",
     "output_type": "stream",
     "text": [
      "Các số chia hết cho 3 :\n",
      "3\n",
      "6\n",
      "9\n",
      "12\n",
      "15\n",
      "18\n",
      "30\n",
      "------------------------------\n",
      "Các số chia hết cho 5 :\n",
      "5\n",
      "10\n",
      "15\n",
      "20\n",
      "25\n",
      "30\n",
      "------------------------------\n",
      "Các số chia hết cho 2 :\n",
      "2\n",
      "4\n",
      "6\n",
      "8\n",
      "10\n",
      "12\n",
      "18\n",
      "20\n",
      "30\n",
      "------------------------------\n"
     ]
    }
   ],
   "source": [
    "#3.\n",
    "def in_so_chia_het(danh_sach_so, uoc_so=2):\n",
    "    \"\"\"\n",
    "    Hàm nhận một danh sách các số và một số nguyên,\n",
    "    và chỉ in ra các số chia hết cho số nguyên đó.\n",
    "    Nếu không cung cấp số nguyên, mặc định chia cho 2.\n",
    "    \n",
    "    Tham số:\n",
    "    -----------\n",
    "    danh_sach_so: list\n",
    "        Danh sách các số cần kiểm tra\n",
    "    uoc_so: int, mặc định là 2\n",
    "        Số nguyên để kiểm tra tính chia hết\n",
    "    \"\"\"\n",
    "    print(\"Các số chia hết cho\", uoc_so, \":\")\n",
    "    \n",
    "    # Duyệt qua từng số trong danh sách\n",
    "    for so in danh_sach_so:\n",
    "        # Kiểm tra nếu số chia hết cho ước số\n",
    "        if so % uoc_so == 0:\n",
    "            print(so)\n",
    "    \n",
    "    print(\"-\" * 30)  # Dòng phân cách\n",
    "\n",
    "# Danh sách các số để kiểm tra\n",
    "cac_so = [1, 2, 3, 4, 5, 6, 7, 8, 9, 10, 12, 15, 18, 20, 25, 30]\n",
    "\n",
    "# Gọi hàm với ước số 3\n",
    "in_so_chia_het(cac_so, 3)\n",
    "\n",
    "# Gọi hàm với ước số 5\n",
    "in_so_chia_het(cac_so, 5)\n",
    "\n",
    "# Gọi hàm không có ước số (sẽ sử dụng mặc định là 2)\n",
    "in_so_chia_het(cac_so)"
   ]
  },
  {
   "cell_type": "code",
   "execution_count": 24,
   "id": "80dd40fb-1244-47e5-ae20-93d80cc02520",
   "metadata": {},
   "outputs": [
    {
     "name": "stdin",
     "output_type": "stream",
     "text": [
      "Nhập một số:  23\n"
     ]
    },
    {
     "name": "stdout",
     "output_type": "stream",
     "text": [
      "{1: 2, 2: 4, 3: 6, 4: 8, 5: 10, 6: 12, 7: 14, 8: 16, 9: 18, 10: 20, 11: 22, 12: 24, 13: 26, 14: 28, 15: 30, 16: 32, 17: 34, 18: 36, 19: 38, 20: 40, 21: 42, 22: 44, 23: 46}\n"
     ]
    }
   ],
   "source": [
    "#4.\n",
    "def tao_tu_dien_nhan_doi():\n",
    "    \"\"\"\n",
    "    Hàm yêu cầu người dùng nhập một số và in ra một từ điển\n",
    "    trong đó các khóa là các số từ 1 đến số đầu vào,\n",
    "    và các giá trị là số kép của mỗi khóa.\n",
    "    \n",
    "    Không nhận đối số nào, sử dụng input() bên trong hàm.\n",
    "    \"\"\"\n",
    "    # Yêu cầu người dùng nhập số\n",
    "    so_nhap = int(input(\"Nhập một số: \"))\n",
    "    \n",
    "    # Tạo từ điển với khóa là các số từ 1 đến số nhập vào\n",
    "    # và giá trị là số kép của mỗi khóa\n",
    "    tu_dien = {}\n",
    "    for i in range(1, so_nhap + 1):\n",
    "        tu_dien[i] = i * 2\n",
    "    \n",
    "    # In ra từ điển kết quả\n",
    "    print(tu_dien)\n",
    "\n",
    "# Gọi hàm\n",
    "tao_tu_dien_nhan_doi()"
   ]
  },
  {
   "cell_type": "code",
   "execution_count": 26,
   "id": "66aa88e1-6681-4d11-9511-68428f8f2643",
   "metadata": {},
   "outputs": [
    {
     "name": "stdout",
     "output_type": "stream",
     "text": [
      "nĩa\n"
     ]
    }
   ],
   "source": [
    "#bt áp dụng trang 185\n",
    "import random\n",
    "\n",
    "def chon_tu_ngau_nhien(danh_sach_tu):\n",
    "    \"\"\"\n",
    "    Hàm nhận một danh sách các từ và trả về một từ\n",
    "    được chọn ngẫu nhiên ở dạng chữ thường.\n",
    "    \n",
    "    Tham số:\n",
    "    -----------\n",
    "    danh_sach_tu: list\n",
    "        Danh sách các từ để chọn\n",
    "        \n",
    "    Trả về:\n",
    "    -----------\n",
    "    string\n",
    "        Một từ ngẫu nhiên từ danh sách ở dạng chữ thường\n",
    "    \"\"\"\n",
    "    # Chọn một từ ngẫu nhiên từ danh sách\n",
    "    tu_ngau_nhien = random.choice(danh_sach_tu)\n",
    "    \n",
    "    # Chuyển từ đó sang chữ thường và trả về\n",
    "    return tu_ngau_nhien.lower()\n",
    "\n",
    "# Ví dụ sử dụng\n",
    "danh_sach = [\"muỗng\", \"Nĩa\", \"DAO\"]\n",
    "ket_qua = chon_tu_ngau_nhien(danh_sach)\n",
    "print(ket_qua)"
   ]
  },
  {
   "cell_type": "code",
   "execution_count": 28,
   "id": "b23b8afe-89a7-43a5-ab43-0c9f68c29c85",
   "metadata": {},
   "outputs": [
    {
     "name": "stdout",
     "output_type": "stream",
     "text": [
      "_ _ l l _ \n"
     ]
    }
   ],
   "source": [
    "#bt áp dụng 2\n",
    "def hien_thi_chu_cai_da_doan(chu_cai_da_doan, tu):\n",
    "    \"\"\"\n",
    "    Hàm nhận một chữ cái đã đoán và một từ,\n",
    "    hiển thị từ với chữ cái đã đoán được hiển thị đúng vị trí,\n",
    "    trong khi các chữ cái còn lại, chưa đoán được, được hiển thị dưới dạng dấu gạch dưới.\n",
    "    \n",
    "    Tham số:\n",
    "    -----------\n",
    "    chu_cai_da_doan: string\n",
    "        Chữ cái đã đoán\n",
    "    tu: string\n",
    "        Từ cần hiển thị\n",
    "        \n",
    "    Trả về:\n",
    "    -----------\n",
    "    string\n",
    "        Chuỗi hiển thị từ với chữ cái đã đoán và dấu gạch dưới\n",
    "    \"\"\"\n",
    "    # Chuyển từ và chữ cái đã đoán sang chữ thường để so sánh không phân biệt hoa thường\n",
    "    tu = tu.lower()\n",
    "    chu_cai_da_doan = chu_cai_da_doan.lower()\n",
    "    \n",
    "    # Tạo chuỗi kết quả\n",
    "    ket_qua = \"\"\n",
    "    \n",
    "    # Duyệt qua từng chữ cái trong từ\n",
    "    for chu_cai in tu:\n",
    "        # Nếu chữ cái đã được đoán, hiển thị nó\n",
    "        if chu_cai == chu_cai_da_doan:\n",
    "            ket_qua += chu_cai\n",
    "        # Nếu chưa đoán, hiển thị dấu gạch dưới\n",
    "        else:\n",
    "            ket_qua += \"_\"\n",
    "        \n",
    "        # Thêm khoảng trắng giữa các ký tự để dễ đọc\n",
    "        ket_qua += \" \"\n",
    "    \n",
    "    return ket_qua\n",
    "\n",
    "# Ví dụ sử dụng\n",
    "chu_cai_da_doan = \"l\"\n",
    "tu = \"hello\"\n",
    "ket_qua = hien_thi_chu_cai_da_doan(chu_cai_da_doan, tu)\n",
    "print(ket_qua)  # Kết quả: \"_ _ l l _\""
   ]
  },
  {
   "cell_type": "code",
   "execution_count": null,
   "id": "587ab41d-bca7-49a4-b70b-425ca348911f",
   "metadata": {},
   "outputs": [],
   "source": []
  }
 ],
 "metadata": {
  "kernelspec": {
   "display_name": "Python [conda env:base] *",
   "language": "python",
   "name": "conda-base-py"
  },
  "language_info": {
   "codemirror_mode": {
    "name": "ipython",
    "version": 3
   },
   "file_extension": ".py",
   "mimetype": "text/x-python",
   "name": "python",
   "nbconvert_exporter": "python",
   "pygments_lexer": "ipython3",
   "version": "3.13.5"
  }
 },
 "nbformat": 4,
 "nbformat_minor": 5
}
